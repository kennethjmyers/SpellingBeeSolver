{
 "cells": [
  {
   "cell_type": "markdown",
   "id": "876335a0",
   "metadata": {
    "toc": true
   },
   "source": [
    "<h1>Table of Contents<span class=\"tocSkip\"></span></h1>\n",
    "<div class=\"toc\"><ul class=\"toc-item\"><li><span><a href=\"#Imports-and-set-up\" data-toc-modified-id=\"Imports-and-set-up-1\"><span class=\"toc-item-num\">1&nbsp;&nbsp;</span>Imports and set up</a></span></li><li><span><a href=\"#Build-a-better-dictionary-dataset\" data-toc-modified-id=\"Build-a-better-dictionary-dataset-2\"><span class=\"toc-item-num\">2&nbsp;&nbsp;</span>Build a better dictionary dataset</a></span><ul class=\"toc-item\"><li><span><a href=\"#Partition-by-Letter\" data-toc-modified-id=\"Partition-by-Letter-2.1\"><span class=\"toc-item-num\">2.1&nbsp;&nbsp;</span>Partition by Letter</a></span></li><li><span><a href=\"#Convert-to-Trees\" data-toc-modified-id=\"Convert-to-Trees-2.2\"><span class=\"toc-item-num\">2.2&nbsp;&nbsp;</span>Convert to Trees</a></span></li></ul></li><li><span><a href=\"#Search-for-words\" data-toc-modified-id=\"Search-for-words-3\"><span class=\"toc-item-num\">3&nbsp;&nbsp;</span>Search for words</a></span></li><li><span><a href=\"#Identify-pangram\" data-toc-modified-id=\"Identify-pangram-4\"><span class=\"toc-item-num\">4&nbsp;&nbsp;</span>Identify pangram</a></span></li></ul></div>"
   ]
  },
  {
   "cell_type": "markdown",
   "id": "d96c5125",
   "metadata": {},
   "source": [
    "## Imports and set up"
   ]
  },
  {
   "cell_type": "code",
   "execution_count": 2,
   "id": "b395abb9",
   "metadata": {
    "ExecuteTime": {
     "end_time": "2023-06-14T19:02:26.266107Z",
     "start_time": "2023-06-14T19:02:26.217506Z"
    }
   },
   "outputs": [],
   "source": [
    "import dill\n",
    "import os\n",
    "from collections import namedtuple\n",
    "\n",
    "\n",
    "alphabet = list('abcdefghijklmnopqrstuvwxyz')\n",
    "parameters = ['parent', 'letter', 'wordToHere', 'terminatingWord']+alphabet\n",
    "defaults = [None, '', '', False]+[None for _ in alphabet]\n",
    "LetterNode = namedtuple('LetterNode', parameters, defaults=defaults)    \n",
    "\n",
    "# root = LetterNode()\n",
    "# root = root._replace(a='test')"
   ]
  },
  {
   "cell_type": "markdown",
   "id": "a632920e",
   "metadata": {},
   "source": [
    "## Build a better dictionary dataset\n",
    "\n",
    "See [Data/README.txt](./Data/README.txt) for info on the dictionary dataset. I downloaded words_alpha.txt because it cuts out words that have numbers and special symbols.\n",
    "\n"
   ]
  },
  {
   "cell_type": "markdown",
   "id": "d7c8a4d0",
   "metadata": {},
   "source": [
    "### Partition by Letter\n",
    "\n",
    "First further cut this down to words with 4 or more letters since we need those for Spelling Bee. Then save them to files by starting letter. "
   ]
  },
  {
   "cell_type": "code",
   "execution_count": 69,
   "id": "ea602a24",
   "metadata": {
    "ExecuteTime": {
     "end_time": "2023-06-13T21:11:05.952584Z",
     "start_time": "2023-06-13T21:11:05.858405Z"
    }
   },
   "outputs": [],
   "source": [
    "# Delete letter files\n",
    "# letterFiles = os.listdir('./Data/LetterFiles')\n",
    "# for f in letterFiles:\n",
    "#   os.remove('./Data/LetterFiles/'+f)"
   ]
  },
  {
   "cell_type": "code",
   "execution_count": 70,
   "id": "73f49623",
   "metadata": {
    "ExecuteTime": {
     "end_time": "2023-06-13T21:12:28.940222Z",
     "start_time": "2023-06-13T21:11:20.919363Z"
    }
   },
   "outputs": [],
   "source": [
    "with open('./Data/words_alpha.txt', 'r') as file:\n",
    "  words = file.readlines()\n",
    "\n",
    "# Make separate files by letter\n",
    "# I commented this out so that it won't accidentally be rerun\n",
    "# for word in words:\n",
    "#   if len(word.strip()) < 4:\n",
    "#     continue\n",
    "#   word = word.lower()\n",
    "#   startingLetter = word[0]\n",
    "#   with open(f'./Data/LetterFiles/{startingLetter}.txt', 'a+') as letterFile:\n",
    "#     letterFile.write(word)"
   ]
  },
  {
   "cell_type": "markdown",
   "id": "aad058fe",
   "metadata": {},
   "source": [
    "### Convert to Trees"
   ]
  },
  {
   "cell_type": "code",
   "execution_count": 3,
   "id": "31abfe35",
   "metadata": {
    "ExecuteTime": {
     "end_time": "2023-06-14T18:56:05.891394Z",
     "start_time": "2023-06-14T18:56:05.844730Z"
    }
   },
   "outputs": [],
   "source": [
    "# Delete current trees\n",
    "# letterTrees = os.listdir('./Data/LetterTrees')\n",
    "# for f in letterTrees:\n",
    "#   os.remove('./Data/LetterTrees/'+f)"
   ]
  },
  {
   "cell_type": "code",
   "execution_count": 3,
   "id": "2947c67b",
   "metadata": {
    "ExecuteTime": {
     "end_time": "2023-06-14T19:02:31.787384Z",
     "start_time": "2023-06-14T19:02:31.774904Z"
    },
    "scrolled": false
   },
   "outputs": [],
   "source": [
    "def returnRoot(node):\n",
    "  \"\"\"\n",
    "  Not using this right now but it returns you to the top of a tree.\n",
    "  \n",
    "  \"\"\"\n",
    "  while node.parent is not None:\n",
    "    node = node.parent\n",
    "  return node\n",
    "\n",
    "def updateNode(node, word):\n",
    "  \"\"\"\n",
    "  This is a recursive function that builds out the tree for a given word. \n",
    "  \"\"\"\n",
    "  if len(word) == 0:\n",
    "    return None\n",
    "  \n",
    "  assert node.letter == word[0]\n",
    "  \n",
    "  if len(word) == 1:\n",
    "    # mark terminatingWord True because word ends here\n",
    "    node = node._replace(terminatingWord=True)\n",
    "  else:\n",
    "    nextLetter = word[1]\n",
    "    currentNextNode = node.__getattribute__(nextLetter)\n",
    "    if currentNextNode is None:\n",
    "      # make node if it doesn't exist\n",
    "      currentNextNode = LetterNode(parent=node, letter=nextLetter, wordToHere=node.wordToHere+nextLetter)\n",
    "    newNextNode = updateNode(currentNextNode, word[1:])\n",
    "    node = node._replace(**{nextLetter:newNextNode})\n",
    "  \n",
    "  return node\n",
    "   "
   ]
  },
  {
   "cell_type": "code",
   "execution_count": 4,
   "id": "949968fb",
   "metadata": {
    "ExecuteTime": {
     "end_time": "2023-06-14T19:02:35.121681Z",
     "start_time": "2023-06-14T19:02:34.333918Z"
    }
   },
   "outputs": [],
   "source": [
    "# test building tree for one letter\n",
    "letter = 'i'\n",
    "with open(f'./Data/LetterFiles/{letter}.txt', 'r+') as letterFile:\n",
    "  lettersWords = letterFile.readlines()\n",
    "  \n",
    "root = LetterNode(wordToHere=letter, letter=letter)\n",
    "for word in lettersWords:\n",
    "  word = word.strip()\n",
    "  root = updateNode(root, word)\n"
   ]
  },
  {
   "cell_type": "code",
   "execution_count": 5,
   "id": "dab07c80",
   "metadata": {
    "ExecuteTime": {
     "end_time": "2023-06-14T19:07:13.733867Z",
     "start_time": "2023-06-14T19:02:38.702459Z"
    }
   },
   "outputs": [
    {
     "name": "stdout",
     "output_type": "stream",
     "text": [
      "Finished letter a\n",
      "Finished letter b\n",
      "Finished letter c\n",
      "Finished letter d\n",
      "Finished letter e\n",
      "Finished letter f\n",
      "Finished letter g\n",
      "Finished letter h\n",
      "Finished letter i\n",
      "Finished letter j\n",
      "Finished letter k\n",
      "Finished letter l\n",
      "Finished letter m\n",
      "Finished letter n\n",
      "Finished letter o\n",
      "Finished letter p\n",
      "Finished letter q\n",
      "Finished letter r\n",
      "Finished letter s\n",
      "Finished letter t\n",
      "Finished letter u\n",
      "Finished letter v\n",
      "Finished letter w\n",
      "Finished letter x\n",
      "Finished letter y\n",
      "Finished letter z\n"
     ]
    }
   ],
   "source": [
    "# build trees for each letter\n",
    "alphabet = list('abcdefghijklmnopqrstuvwxyz')\n",
    "for letter in alphabet:\n",
    "  # read words for letter\n",
    "  with open(f'./Data/LetterFiles/{letter}.txt', 'r+') as letterFile:\n",
    "    lettersWords = letterFile.readlines()\n",
    "\n",
    "  # build tree\n",
    "  root = LetterNode(wordToHere=letter, letter=letter)\n",
    "  for word in lettersWords:\n",
    "    word = word.strip()\n",
    "    root = updateNode(root, word)\n",
    "\n",
    "  # pickle tree\n",
    "  with open(f'./Data/LetterTrees/{letter}.tree', 'wb') as treeFile:\n",
    "    dill.dump(root, treeFile)\n",
    "    \n",
    "  print(f\"Finished letter {letter}\")"
   ]
  },
  {
   "cell_type": "markdown",
   "id": "09150a3e",
   "metadata": {},
   "source": [
    "## Search for words"
   ]
  },
  {
   "cell_type": "code",
   "execution_count": 6,
   "id": "89cf13b3",
   "metadata": {
    "ExecuteTime": {
     "end_time": "2023-06-14T19:07:31.437443Z",
     "start_time": "2023-06-14T19:07:31.424490Z"
    }
   },
   "outputs": [],
   "source": [
    "def searchTree(node, puzzle, foundWords=[], mandatoryLetter=None):\n",
    "  if node.terminatingWord:\n",
    "    wordToHere = node.wordToHere\n",
    "    if mandatoryLetter is not None:\n",
    "      if mandatoryLetter in wordToHere:\n",
    "#         print(node.wordToHere)\n",
    "        foundWords.append(node.wordToHere)\n",
    "    else:\n",
    "      foundWords.append(node.wordToHere)\n",
    "  for l in puzzle:\n",
    "    child = node.__getattribute__(l)\n",
    "    if child is not None:\n",
    "      foundWords = searchTree(child, puzzle, foundWords, mandatoryLetter)\n",
    "  return foundWords\n",
    "\n",
    "# example = 'ltvpexi'\n",
    "# foundWords = searchTree(root, example, mandatoryLetter='i')\n",
    "# foundWords"
   ]
  },
  {
   "cell_type": "code",
   "execution_count": 7,
   "id": "99749c32",
   "metadata": {
    "ExecuteTime": {
     "end_time": "2023-06-14T19:07:43.185410Z",
     "start_time": "2023-06-14T19:07:39.555853Z"
    }
   },
   "outputs": [],
   "source": [
    "example = 'iltvpex'\n",
    "mandatoryLetter = example[0]\n",
    "\n",
    "allFoundWords = []\n",
    "for letter in example:\n",
    "  with open(f'./Data/LetterTrees/{letter}.tree', 'rb') as treeFile:\n",
    "    thisRoot = dill.load(treeFile)\n",
    "  foundWords = searchTree(node=thisRoot, puzzle=example, foundWords=[], mandatoryLetter=mandatoryLetter)\n",
    "  allFoundWords.extend(foundWords)\n",
    "  "
   ]
  },
  {
   "cell_type": "code",
   "execution_count": 8,
   "id": "5dd32963",
   "metadata": {
    "ExecuteTime": {
     "end_time": "2023-06-14T19:07:44.375979Z",
     "start_time": "2023-06-14T19:07:44.355249Z"
    },
    "scrolled": false
   },
   "outputs": [
    {
     "name": "stdout",
     "output_type": "stream",
     "text": [
      "113\n",
      "113\n"
     ]
    },
    {
     "data": {
      "text/plain": [
       "['illite',\n",
       " 'illipe',\n",
       " 'ilex',\n",
       " 'itll',\n",
       " 'itel',\n",
       " 'ipil',\n",
       " 'ipilipil',\n",
       " 'ieee',\n",
       " 'ixil',\n",
       " 'ixtle',\n",
       " 'lill',\n",
       " 'lilt',\n",
       " 'lile',\n",
       " 'liti',\n",
       " 'little',\n",
       " 'lite',\n",
       " 'live',\n",
       " 'liplet',\n",
       " 'lippie',\n",
       " 'lieve',\n",
       " 'lixive',\n",
       " 'levi',\n",
       " 'levite',\n",
       " 'leptite',\n",
       " 'leepit',\n",
       " 'till',\n",
       " 'tillite',\n",
       " 'tillet',\n",
       " 'tilt',\n",
       " 'tile',\n",
       " 'tilette',\n",
       " 'titi',\n",
       " 'titivil',\n",
       " 'title',\n",
       " 'tittie',\n",
       " 'tittle',\n",
       " 'tite',\n",
       " 'tipi',\n",
       " 'tipit',\n",
       " 'tipiti',\n",
       " 'tiple',\n",
       " 'tiplet',\n",
       " 'tiptilt',\n",
       " 'tipple',\n",
       " 'tippet',\n",
       " 'tippee',\n",
       " 'tipe',\n",
       " 'teil',\n",
       " 'teli',\n",
       " 'telei',\n",
       " 'tettix',\n",
       " 'textile',\n",
       " 'viii',\n",
       " 'vili',\n",
       " 'vill',\n",
       " 'villi',\n",
       " 'ville',\n",
       " 'vile',\n",
       " 'viti',\n",
       " 'vittle',\n",
       " 'vite',\n",
       " 'vive',\n",
       " 'vielle',\n",
       " 'vlei',\n",
       " 'veil',\n",
       " 'vetitive',\n",
       " 'vexil',\n",
       " 'pili',\n",
       " 'pill',\n",
       " 'pillet',\n",
       " 'pile',\n",
       " 'pilei',\n",
       " 'pittite',\n",
       " 'pitpit',\n",
       " 'pipi',\n",
       " 'pipil',\n",
       " 'pipile',\n",
       " 'pipit',\n",
       " 'pipple',\n",
       " 'pipe',\n",
       " 'pipet',\n",
       " 'pipette',\n",
       " 'pielet',\n",
       " 'piet',\n",
       " 'piete',\n",
       " 'pixie',\n",
       " 'pixel',\n",
       " 'plie',\n",
       " 'pelite',\n",
       " 'pellile',\n",
       " 'petit',\n",
       " 'petite',\n",
       " 'petti',\n",
       " 'peelite',\n",
       " 'elite',\n",
       " 'elix',\n",
       " 'evil',\n",
       " 'evite',\n",
       " 'epil',\n",
       " 'epit',\n",
       " 'eppie',\n",
       " 'exile',\n",
       " 'exit',\n",
       " 'exite',\n",
       " 'extill',\n",
       " 'expletive',\n",
       " 'xiii',\n",
       " 'xipe',\n",
       " 'xvii',\n",
       " 'xviii',\n",
       " 'xxii',\n",
       " 'xxiii',\n",
       " 'xxiv']"
      ]
     },
     "execution_count": 8,
     "metadata": {},
     "output_type": "execute_result"
    }
   ],
   "source": [
    "print(len(allFoundWords))\n",
    "print(len(set(allFoundWords)))\n",
    "allFoundWords"
   ]
  },
  {
   "cell_type": "markdown",
   "id": "a1380b02",
   "metadata": {},
   "source": [
    "## Identify pangram"
   ]
  },
  {
   "cell_type": "code",
   "execution_count": 23,
   "id": "e537c7f7",
   "metadata": {
    "ExecuteTime": {
     "end_time": "2023-06-14T01:15:11.285404Z",
     "start_time": "2023-06-14T01:15:11.275647Z"
    }
   },
   "outputs": [
    {
     "name": "stdout",
     "output_type": "stream",
     "text": [
      "expletive\n"
     ]
    }
   ],
   "source": [
    "findPangrams(example, allFoundWords)"
   ]
  },
  {
   "cell_type": "code",
   "execution_count": null,
   "id": "7dd6b4fb",
   "metadata": {},
   "outputs": [],
   "source": []
  }
 ],
 "metadata": {
  "hide_input": false,
  "kernelspec": {
   "display_name": "py39",
   "language": "python",
   "name": "py39"
  },
  "language_info": {
   "codemirror_mode": {
    "name": "ipython",
    "version": 3
   },
   "file_extension": ".py",
   "mimetype": "text/x-python",
   "name": "python",
   "nbconvert_exporter": "python",
   "pygments_lexer": "ipython3",
   "version": "3.9.16"
  },
  "toc": {
   "base_numbering": 1,
   "nav_menu": {},
   "number_sections": true,
   "sideBar": true,
   "skip_h1_title": false,
   "title_cell": "Table of Contents",
   "title_sidebar": "Contents",
   "toc_cell": true,
   "toc_position": {},
   "toc_section_display": true,
   "toc_window_display": true
  }
 },
 "nbformat": 4,
 "nbformat_minor": 5
}
