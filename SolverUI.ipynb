{
 "cells": [
  {
   "cell_type": "markdown",
   "id": "e9febfe3",
   "metadata": {
    "toc": true
   },
   "source": [
    "<h1>Table of Contents<span class=\"tocSkip\"></span></h1>\n",
    "<div class=\"toc\"><ul class=\"toc-item\"><li><span><a href=\"#Solutions\" data-toc-modified-id=\"Solutions-1\"><span class=\"toc-item-num\">1&nbsp;&nbsp;</span>Solutions</a></span></li><li><span><a href=\"#Identify-pangrams\" data-toc-modified-id=\"Identify-pangrams-2\"><span class=\"toc-item-num\">2&nbsp;&nbsp;</span>Identify pangrams</a></span></li></ul></div>"
   ]
  },
  {
   "cell_type": "code",
   "execution_count": null,
   "id": "a5e4412c",
   "metadata": {},
   "outputs": [],
   "source": [
    "from itables import init_notebook_mode\n",
    "init_notebook_mode(all_interactive=True)\n",
    "import itables.options as opt\n",
    "opt.lengthMenu = [100, 200]\n",
    "from Solver import *"
   ]
  },
  {
   "cell_type": "code",
   "execution_count": 1,
   "id": "335ff68c",
   "metadata": {
    "ExecuteTime": {
     "end_time": "2023-06-14T16:56:29.989067Z",
     "start_time": "2023-06-14T16:56:29.946093Z"
    },
    "code_folding": [],
    "init_cell": true,
    "scrolled": true
   },
   "outputs": [
    {
     "data": {
      "application/vnd.jupyter.widget-view+json": {
       "model_id": "bd55c5d985d84c9694107a20b2f814c7",
       "version_major": 2,
       "version_minor": 0
      },
      "text/plain": [
       "Text(value='', description='Puzzle:', placeholder='abcdefg (center letter first)')"
      ]
     },
     "metadata": {},
     "output_type": "display_data"
    }
   ],
   "source": [
    "import ipywidgets as widgets\n",
    "puzzle = widgets.Text(\n",
    "  placeholder='abcdefg (center letter first)',\n",
    "  description='Puzzle:',\n",
    "  disabled=False   \n",
    ")\n",
    "display(puzzle)\n"
   ]
  },
  {
   "cell_type": "code",
   "execution_count": 3,
   "id": "ef12482b",
   "metadata": {
    "ExecuteTime": {
     "end_time": "2023-06-14T16:56:35.225823Z",
     "start_time": "2023-06-14T16:56:35.195028Z"
    },
    "init_cell": true
   },
   "outputs": [
    {
     "data": {
      "application/javascript": [
       "IPython.notebook.execute_cells_below()"
      ],
      "text/plain": [
       "<IPython.core.display.Javascript object>"
      ]
     },
     "metadata": {},
     "output_type": "display_data"
    },
    {
     "data": {
      "application/vnd.jupyter.widget-view+json": {
       "model_id": "7886eee75d7f4478a18bc46895fe52b3",
       "version_major": 2,
       "version_minor": 0
      },
      "text/plain": [
       "Button(description='Solve Puzzle!', style=ButtonStyle())"
      ]
     },
     "metadata": {},
     "output_type": "display_data"
    }
   ],
   "source": [
    "from IPython.display import Javascript, display\n",
    "\n",
    "def run_all(ev):\n",
    "    display(Javascript('IPython.notebook.execute_cells_below()'))\n",
    "\n",
    "button = widgets.Button(description=\"Solve Puzzle!\")\n",
    "button.on_click(run_all)\n",
    "display(button)\n"
   ]
  },
  {
   "cell_type": "markdown",
   "id": "8ef852e9",
   "metadata": {},
   "source": [
    "## Solutions"
   ]
  },
  {
   "cell_type": "code",
   "execution_count": 5,
   "id": "9758dae6",
   "metadata": {
    "ExecuteTime": {
     "end_time": "2023-06-14T16:56:39.241013Z",
     "start_time": "2023-06-14T16:56:35.695699Z"
    },
    "scrolled": false
   },
   "outputs": [
    {
     "data": {
      "text/html": [
       "<style>.itables table td {\n",
       "    text-overflow: ellipsis;\n",
       "    overflow: hidden;\n",
       "}\n",
       "\n",
       ".itables table th {\n",
       "    text-overflow: ellipsis;\n",
       "    overflow: hidden;\n",
       "}\n",
       "\n",
       ".itables thead input {\n",
       "    width: 100%;\n",
       "    padding: 3px;\n",
       "    box-sizing: border-box;\n",
       "}\n",
       "\n",
       ".itables tfoot input {\n",
       "    width: 100%;\n",
       "    padding: 3px;\n",
       "    box-sizing: border-box;\n",
       "}\n",
       "</style>\n",
       "<div class=\"itables\">\n",
       "<table id=\"db7bfad0-332e-442d-86ce-ab993cb78d24\" class=\"display nowrap\"style=\"table-layout:auto;width:auto;margin:auto;caption-side:bottom\"><thead>\n",
       "    <tr style=\"text-align: right;\">\n",
       "      \n",
       "      <th>p</th>\n",
       "      <th>o</th>\n",
       "      <th>i</th>\n",
       "      <th>l</th>\n",
       "      <th>k</th>\n",
       "      <th>e</th>\n",
       "      <th>d</th>\n",
       "    </tr>\n",
       "  </thead><tbody><tr><td>Loading... (need <a href=https://mwouts.github.io/itables/troubleshooting.html>help</a>?)</td></tr></tbody></table>\n",
       "<script>\n",
       "    // We use a namespace per table (= the next curly bracket)\n",
       "    // to avoid conflicts between the various tables' data & dt_args\n",
       "    {\n",
       "        // Define the table data\n",
       "        const data = [[\"poppied\", \"oped\", \"ipil\", \"lopped\", \"koppie\", \"eppie\", \"doppio\"], [\"popple\", \"oopod\", \"ipilipil\", \"lope\", \"kopi\", \"epop\", \"dopped\"], [\"poppled\", \"olpe\", \"ipid\", \"loped\", \"kopek\", \"epopee\", \"dope\"], [\"poppel\", \"\", \"illipe\", \"loop\", \"kipped\", \"epode\", \"doped\"], [\"popped\", \"\", \"\", \"looplike\", \"kipe\", \"epil\", \"dollop\"], [\"popode\", \"\", \"\", \"loope\", \"kilp\", \"epee\", \"dodipole\"], [\"popie\", \"\", \"\", \"looped\", \"klop\", \"eolopile\", \"dipped\"], [\"pope\", \"\", \"\", \"lollop\", \"klip\", \"eolipile\", \"dipole\"], [\"popelike\", \"\", \"\", \"lolloped\", \"klippe\", \"elope\", \"dipodid\"], [\"poop\", \"\", \"\", \"lollipop\", \"kepped\", \"eloped\", \"dipode\"], [\"pooped\", \"\", \"\", \"lippie\", \"kepi\", \"\", \"dipl\"], [\"pool\", \"\", \"\", \"lipped\", \"kelp\", \"\", \"diplopod\"], [\"pooli\", \"\", \"\", \"lipopod\", \"kelpie\", \"\", \"diploid\"], [\"pooled\", \"\", \"\", \"lipoid\", \"kelped\", \"\", \"diploe\"], [\"pook\", \"\", \"\", \"lipid\", \"kelep\", \"\", \"diple\"], [\"pookoo\", \"\", \"\", \"lipide\", \"keep\", \"\", \"dikkop\"], [\"pood\", \"\", \"\", \"liplike\", \"\", \"\", \"depe\"], [\"poodle\", \"\", \"\", \"lepid\", \"\", \"\", \"depeople\"], [\"poil\", \"\", \"\", \"lepidoid\", \"\", \"\", \"depeopled\"], [\"poikilie\", \"\", \"\", \"lepidoidei\", \"\", \"\", \"depel\"], [\"poikile\", \"\", \"\", \"leopold\", \"\", \"\", \"deep\"], [\"polo\", \"\", \"\", \"leep\", \"\", \"\", \"\"], [\"poloi\", \"\", \"\", \"\", \"\", \"\", \"\"], [\"polio\", \"\", \"\", \"\", \"\", \"\", \"\"], [\"poll\", \"\", \"\", \"\", \"\", \"\", \"\"], [\"polloi\", \"\", \"\", \"\", \"\", \"\", \"\"], [\"pollee\", \"\", \"\", \"\", \"\", \"\", \"\"], [\"polled\", \"\", \"\", \"\", \"\", \"\", \"\"], [\"polk\", \"\", \"\", \"\", \"\", \"\", \"\"], [\"polki\", \"\", \"\", \"\", \"\", \"\", \"\"], [\"pole\", \"\", \"\", \"\", \"\", \"\", \"\"], [\"poled\", \"\", \"\", \"\", \"\", \"\", \"\"], [\"pokie\", \"\", \"\", \"\", \"\", \"\", \"\"], [\"poke\", \"\", \"\", \"\", \"\", \"\", \"\"], [\"poked\", \"\", \"\", \"\", \"\", \"\", \"\"], [\"podlike\", \"\", \"\", \"\", \"\", \"\", \"\"], [\"poddle\", \"\", \"\", \"\", \"\", \"\", \"\"], [\"podded\", \"\", \"\", \"\", \"\", \"\", \"\"], [\"pipple\", \"\", \"\", \"\", \"\", \"\", \"\"], [\"pipped\", \"\", \"\", \"\", \"\", \"\", \"\"], [\"pipi\", \"\", \"\", \"\", \"\", \"\", \"\"], [\"pipil\", \"\", \"\", \"\", \"\", \"\", \"\"], [\"pipilo\", \"\", \"\", \"\", \"\", \"\", \"\"], [\"pipile\", \"\", \"\", \"\", \"\", \"\", \"\"], [\"pipid\", \"\", \"\", \"\", \"\", \"\", \"\"], [\"pipe\", \"\", \"\", \"\", \"\", \"\", \"\"], [\"pipelike\", \"\", \"\", \"\", \"\", \"\", \"\"], [\"piped\", \"\", \"\", \"\", \"\", \"\", \"\"], [\"pili\", \"\", \"\", \"\", \"\", \"\", \"\"], [\"pililloo\", \"\", \"\", \"\", \"\", \"\", \"\"], [\"pill\", \"\", \"\", \"\", \"\", \"\", \"\"], [\"pilled\", \"\", \"\", \"\", \"\", \"\", \"\"], [\"pile\", \"\", \"\", \"\", \"\", \"\", \"\"], [\"pileoli\", \"\", \"\", \"\", \"\", \"\", \"\"], [\"pilei\", \"\", \"\", \"\", \"\", \"\", \"\"], [\"piled\", \"\", \"\", \"\", \"\", \"\", \"\"], [\"piki\", \"\", \"\", \"\", \"\", \"\", \"\"], [\"pikle\", \"\", \"\", \"\", \"\", \"\", \"\"], [\"pike\", \"\", \"\", \"\", \"\", \"\", \"\"], [\"pikel\", \"\", \"\", \"\", \"\", \"\", \"\"], [\"pikelike\", \"\", \"\", \"\", \"\", \"\", \"\"], [\"piked\", \"\", \"\", \"\", \"\", \"\", \"\"], [\"pielike\", \"\", \"\", \"\", \"\", \"\", \"\"], [\"pied\", \"\", \"\", \"\", \"\", \"\", \"\"], [\"piddle\", \"\", \"\", \"\", \"\", \"\", \"\"], [\"piddled\", \"\", \"\", \"\", \"\", \"\", \"\"], [\"plop\", \"\", \"\", \"\", \"\", \"\", \"\"], [\"plopped\", \"\", \"\", \"\", \"\", \"\", \"\"], [\"plook\", \"\", \"\", \"\", \"\", \"\", \"\"], [\"plod\", \"\", \"\", \"\", \"\", \"\", \"\"], [\"plodded\", \"\", \"\", \"\", \"\", \"\", \"\"], [\"plie\", \"\", \"\", \"\", \"\", \"\", \"\"], [\"plied\", \"\", \"\", \"\", \"\", \"\", \"\"], [\"pleopod\", \"\", \"\", \"\", \"\", \"\", \"\"], [\"pled\", \"\", \"\", \"\", \"\", \"\", \"\"], [\"pepped\", \"\", \"\", \"\", \"\", \"\", \"\"], [\"pepo\", \"\", \"\", \"\", \"\", \"\", \"\"], [\"people\", \"\", \"\", \"\", \"\", \"\", \"\"], [\"peopled\", \"\", \"\", \"\", \"\", \"\", \"\"], [\"pelopid\", \"\", \"\", \"\", \"\", \"\", \"\"], [\"peloid\", \"\", \"\", \"\", \"\", \"\", \"\"], [\"pelike\", \"\", \"\", \"\", \"\", \"\", \"\"], [\"pell\", \"\", \"\", \"\", \"\", \"\", \"\"], [\"pellile\", \"\", \"\", \"\", \"\", \"\", \"\"], [\"pele\", \"\", \"\", \"\", \"\", \"\", \"\"], [\"pekoe\", \"\", \"\", \"\", \"\", \"\", \"\"], [\"peke\", \"\", \"\", \"\", \"\", \"\", \"\"], [\"peep\", \"\", \"\", \"\", \"\", \"\", \"\"], [\"peeped\", \"\", \"\", \"\", \"\", \"\", \"\"], [\"peel\", \"\", \"\", \"\", \"\", \"\", \"\"], [\"peele\", \"\", \"\", \"\", \"\", \"\", \"\"], [\"peeled\", \"\", \"\", \"\", \"\", \"\", \"\"], [\"peek\", \"\", \"\", \"\", \"\", \"\", \"\"], [\"peeke\", \"\", \"\", \"\", \"\", \"\", \"\"], [\"peeked\", \"\", \"\", \"\", \"\", \"\", \"\"], [\"peed\", \"\", \"\", \"\", \"\", \"\", \"\"], [\"pedee\", \"\", \"\", \"\", \"\", \"\", \"\"], [\"peddle\", \"\", \"\", \"\", \"\", \"\", \"\"], [\"peddled\", \"\", \"\", \"\", \"\", \"\", \"\"]];\n",
       "        // Display the table\n",
       "        $(document).ready(function () {\n",
       "            window.dataTablePromise.then(() => {\n",
       "                // Define the dt_args\n",
       "                let dt_args = {\"lengthMenu\": [100, 200], \"order\": [], \"dom\": \"t\"};\n",
       "                dt_args[\"data\"] = data;\n",
       "\n",
       "                \n",
       "                $('#db7bfad0-332e-442d-86ce-ab993cb78d24').DataTable(dt_args);\n",
       "            });\n",
       "        })\n",
       "    }\n",
       "</script>\n",
       "</div>\n"
      ],
      "text/plain": [
       "          p      o         i         l       k       e       d\n",
       "0   poppied   oped      ipil    lopped  koppie   eppie  doppio\n",
       "1    popple  oopod  ipilipil      lope    kopi    epop  dopped\n",
       "2   poppled   olpe      ipid     loped   kopek  epopee    dope\n",
       "3    poppel           illipe      loop  kipped   epode   doped\n",
       "4    popped                   looplike    kipe    epil  dollop\n",
       "..      ...    ...       ...       ...     ...     ...     ...\n",
       "94   peeked                                                   \n",
       "95     peed                                                   \n",
       "96    pedee                                                   \n",
       "97   peddle                                                   \n",
       "98  peddled                                                   \n",
       "\n",
       "[99 rows x 7 columns]"
      ]
     },
     "execution_count": 5,
     "metadata": {},
     "output_type": "execute_result"
    }
   ],
   "source": [
    "puzzleValue = puzzle.value\n",
    "allFoundWords = solvePuzzle(puzzleValue)\n",
    "convertToDF(allFoundWords)"
   ]
  },
  {
   "cell_type": "markdown",
   "id": "a1380b02",
   "metadata": {},
   "source": [
    "## Identify pangrams"
   ]
  },
  {
   "cell_type": "code",
   "execution_count": 6,
   "id": "e537c7f7",
   "metadata": {
    "ExecuteTime": {
     "end_time": "2023-06-14T16:56:39.260772Z",
     "start_time": "2023-06-14T16:56:39.248073Z"
    }
   },
   "outputs": [
    {
     "name": "stdout",
     "output_type": "stream",
     "text": [
      "podlike\n"
     ]
    }
   ],
   "source": [
    "for word in flattenSolution(allFoundWords):\n",
    "  if set(word) == set(puzzleValue):\n",
    "    print(word)"
   ]
  },
  {
   "cell_type": "code",
   "execution_count": null,
   "id": "7dd6b4fb",
   "metadata": {},
   "outputs": [],
   "source": []
  }
 ],
 "metadata": {
  "hide_input": false,
  "kernelspec": {
   "display_name": "py37",
   "language": "python",
   "name": "py37"
  },
  "language_info": {
   "codemirror_mode": {
    "name": "ipython",
    "version": 3
   },
   "file_extension": ".py",
   "mimetype": "text/x-python",
   "name": "python",
   "nbconvert_exporter": "python",
   "pygments_lexer": "ipython3",
   "version": "3.7.3"
  },
  "toc": {
   "base_numbering": 1,
   "nav_menu": {},
   "number_sections": true,
   "sideBar": true,
   "skip_h1_title": false,
   "title_cell": "Table of Contents",
   "title_sidebar": "Contents",
   "toc_cell": true,
   "toc_position": {},
   "toc_section_display": true,
   "toc_window_display": false
  },
  "widgets": {
   "application/vnd.jupyter.widget-state+json": {
    "state": {
     "03127f8ec825448fa8bb240df850b40e": {
      "model_module": "@jupyter-widgets/base",
      "model_module_version": "2.0.0",
      "model_name": "LayoutModel",
      "state": {}
     },
     "188eec044eb24f26817a24b78cea0d87": {
      "model_module": "@jupyter-widgets/controls",
      "model_module_version": "2.0.0",
      "model_name": "TextModel",
      "state": {
       "description": "Puzzle:",
       "layout": "IPY_MODEL_03127f8ec825448fa8bb240df850b40e",
       "placeholder": "abcdefg (center letter first)",
       "style": "IPY_MODEL_ba515645e25144dfa655369a54094012"
      }
     },
     "274ce33e363142699681cf9274d7788c": {
      "model_module": "@jupyter-widgets/controls",
      "model_module_version": "2.0.0",
      "model_name": "ButtonStyleModel",
      "state": {
       "font_family": null,
       "font_size": null,
       "font_style": null,
       "font_variant": null,
       "font_weight": null,
       "text_color": null,
       "text_decoration": null
      }
     },
     "2b0bb4b1366c4240adb7126b4f107d3d": {
      "model_module": "@jupyter-widgets/controls",
      "model_module_version": "2.0.0",
      "model_name": "ButtonModel",
      "state": {
       "description": "Solve Puzzle!",
       "layout": "IPY_MODEL_5586c9ce76c24d259a8aedacfcc5852b",
       "style": "IPY_MODEL_5ba81df5629a442eb34257058422d467",
       "tooltip": null
      }
     },
     "37943cab12ee49808cebdabab4f098a5": {
      "model_module": "@jupyter-widgets/controls",
      "model_module_version": "2.0.0",
      "model_name": "TextModel",
      "state": {
       "description": "Puzzle:",
       "layout": "IPY_MODEL_8bcd9f55322f4e1d87569209ae815c37",
       "placeholder": "abcdefg (center letter first)",
       "style": "IPY_MODEL_7dd62727df7541eabd1f48d8936695f9",
       "value": "poilked"
      }
     },
     "40604bedeb8848c6bac77c2a54de735a": {
      "model_module": "@jupyter-widgets/controls",
      "model_module_version": "2.0.0",
      "model_name": "TextModel",
      "state": {
       "description": "Puzzle:",
       "layout": "IPY_MODEL_b02035dd19944ea1bafab91ca2a62017",
       "placeholder": "abcdefg (center letter first)",
       "style": "IPY_MODEL_920d52c498d942a4998f1835db8de5fa"
      }
     },
     "473d85bb6e7d40789aaaed43151960b5": {
      "model_module": "@jupyter-widgets/controls",
      "model_module_version": "2.0.0",
      "model_name": "TextModel",
      "state": {
       "description": "Puzzle:",
       "layout": "IPY_MODEL_c4045aa8903744179e20d53effd70bd6",
       "placeholder": "abcdefg (center letter first)",
       "style": "IPY_MODEL_a60c075650394717b988d9c137f1d1f2"
      }
     },
     "51be6a7d9eb74c1baad7d8ab826fa3c8": {
      "model_module": "@jupyter-widgets/controls",
      "model_module_version": "2.0.0",
      "model_name": "ButtonStyleModel",
      "state": {
       "font_family": null,
       "font_size": null,
       "font_style": null,
       "font_variant": null,
       "font_weight": null,
       "text_color": null,
       "text_decoration": null
      }
     },
     "5586c9ce76c24d259a8aedacfcc5852b": {
      "model_module": "@jupyter-widgets/base",
      "model_module_version": "2.0.0",
      "model_name": "LayoutModel",
      "state": {}
     },
     "5ba81df5629a442eb34257058422d467": {
      "model_module": "@jupyter-widgets/controls",
      "model_module_version": "2.0.0",
      "model_name": "ButtonStyleModel",
      "state": {
       "font_family": null,
       "font_size": null,
       "font_style": null,
       "font_variant": null,
       "font_weight": null,
       "text_color": null,
       "text_decoration": null
      }
     },
     "6d6394bda7c6442eb3e8456e9ce82f70": {
      "model_module": "@jupyter-widgets/base",
      "model_module_version": "2.0.0",
      "model_name": "LayoutModel",
      "state": {}
     },
     "7dd62727df7541eabd1f48d8936695f9": {
      "model_module": "@jupyter-widgets/controls",
      "model_module_version": "2.0.0",
      "model_name": "TextStyleModel",
      "state": {
       "description_width": "",
       "font_size": null,
       "text_color": null
      }
     },
     "7dee8abf80f04fca87b0358f56ba9d66": {
      "model_module": "@jupyter-widgets/controls",
      "model_module_version": "2.0.0",
      "model_name": "ButtonModel",
      "state": {
       "description": "Solve Puzzle!",
       "layout": "IPY_MODEL_88dde6a2c1e94e5390ab34dc5cc54305",
       "style": "IPY_MODEL_274ce33e363142699681cf9274d7788c",
       "tooltip": null
      }
     },
     "88dde6a2c1e94e5390ab34dc5cc54305": {
      "model_module": "@jupyter-widgets/base",
      "model_module_version": "2.0.0",
      "model_name": "LayoutModel",
      "state": {}
     },
     "8bcd9f55322f4e1d87569209ae815c37": {
      "model_module": "@jupyter-widgets/base",
      "model_module_version": "2.0.0",
      "model_name": "LayoutModel",
      "state": {}
     },
     "920d52c498d942a4998f1835db8de5fa": {
      "model_module": "@jupyter-widgets/controls",
      "model_module_version": "2.0.0",
      "model_name": "TextStyleModel",
      "state": {
       "description_width": "",
       "font_size": null,
       "text_color": null
      }
     },
     "a60c075650394717b988d9c137f1d1f2": {
      "model_module": "@jupyter-widgets/controls",
      "model_module_version": "2.0.0",
      "model_name": "TextStyleModel",
      "state": {
       "description_width": "",
       "font_size": null,
       "text_color": null
      }
     },
     "ac12af08f65a4ac2b09dff8d5d10120f": {
      "model_module": "@jupyter-widgets/controls",
      "model_module_version": "2.0.0",
      "model_name": "TextStyleModel",
      "state": {
       "description_width": "",
       "font_size": null,
       "text_color": null
      }
     },
     "ad561c0f33ec40e593437a5420ba33ed": {
      "model_module": "@jupyter-widgets/controls",
      "model_module_version": "2.0.0",
      "model_name": "ButtonStyleModel",
      "state": {
       "font_family": null,
       "font_size": null,
       "font_style": null,
       "font_variant": null,
       "font_weight": null,
       "text_color": null,
       "text_decoration": null
      }
     },
     "b02035dd19944ea1bafab91ca2a62017": {
      "model_module": "@jupyter-widgets/base",
      "model_module_version": "2.0.0",
      "model_name": "LayoutModel",
      "state": {}
     },
     "b940489117034adf9d27ab9c99fd9a26": {
      "model_module": "@jupyter-widgets/controls",
      "model_module_version": "2.0.0",
      "model_name": "ButtonModel",
      "state": {
       "description": "Solve Puzzle!",
       "layout": "IPY_MODEL_d54b5a1e363947e5a291cf1792260509",
       "style": "IPY_MODEL_ad561c0f33ec40e593437a5420ba33ed",
       "tooltip": null
      }
     },
     "ba515645e25144dfa655369a54094012": {
      "model_module": "@jupyter-widgets/controls",
      "model_module_version": "2.0.0",
      "model_name": "TextStyleModel",
      "state": {
       "description_width": "",
       "font_size": null,
       "text_color": null
      }
     },
     "c4045aa8903744179e20d53effd70bd6": {
      "model_module": "@jupyter-widgets/base",
      "model_module_version": "2.0.0",
      "model_name": "LayoutModel",
      "state": {}
     },
     "cf37eb88575e424d8ba12e851a5de351": {
      "model_module": "@jupyter-widgets/controls",
      "model_module_version": "2.0.0",
      "model_name": "ButtonStyleModel",
      "state": {
       "font_family": null,
       "font_size": null,
       "font_style": null,
       "font_variant": null,
       "font_weight": null,
       "text_color": null,
       "text_decoration": null
      }
     },
     "d54b5a1e363947e5a291cf1792260509": {
      "model_module": "@jupyter-widgets/base",
      "model_module_version": "2.0.0",
      "model_name": "LayoutModel",
      "state": {}
     },
     "d971861d377c474081e412e1283d09e7": {
      "model_module": "@jupyter-widgets/controls",
      "model_module_version": "2.0.0",
      "model_name": "ButtonModel",
      "state": {
       "description": "Solve Puzzle!",
       "layout": "IPY_MODEL_e63584878c7c443eb7c16a1d1b9cbd88",
       "style": "IPY_MODEL_cf37eb88575e424d8ba12e851a5de351",
       "tooltip": null
      }
     },
     "dbc58b5a701d47b5ba09237c90269ca7": {
      "model_module": "@jupyter-widgets/controls",
      "model_module_version": "2.0.0",
      "model_name": "ButtonModel",
      "state": {
       "description": "Solve Puzzle!",
       "layout": "IPY_MODEL_6d6394bda7c6442eb3e8456e9ce82f70",
       "style": "IPY_MODEL_51be6a7d9eb74c1baad7d8ab826fa3c8",
       "tooltip": null
      }
     },
     "de48cb6da6ec40609bd8a6bbed1938df": {
      "model_module": "@jupyter-widgets/controls",
      "model_module_version": "2.0.0",
      "model_name": "TextModel",
      "state": {
       "description": "Puzzle:",
       "layout": "IPY_MODEL_f18f2fa8989a4da2a4dbe1eec22c5fe0",
       "placeholder": "abcdefg (center letter first)",
       "style": "IPY_MODEL_ac12af08f65a4ac2b09dff8d5d10120f"
      }
     },
     "e63584878c7c443eb7c16a1d1b9cbd88": {
      "model_module": "@jupyter-widgets/base",
      "model_module_version": "2.0.0",
      "model_name": "LayoutModel",
      "state": {}
     },
     "f18f2fa8989a4da2a4dbe1eec22c5fe0": {
      "model_module": "@jupyter-widgets/base",
      "model_module_version": "2.0.0",
      "model_name": "LayoutModel",
      "state": {}
     }
    },
    "version_major": 2,
    "version_minor": 0
   }
  }
 },
 "nbformat": 4,
 "nbformat_minor": 5
}
